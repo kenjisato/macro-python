{
 "cells": [
  {
   "cell_type": "code",
   "execution_count": 1,
   "metadata": {},
   "outputs": [],
   "source": [
    "T = 30\n",
    "y = [0] * T\n",
    "r = [0] * T\n",
    "pi = [0] * T"
   ]
  },
  {
   "cell_type": "markdown",
   "metadata": {},
   "source": [
    "\\begin{align}\n",
    "  \\pi_t &= \\beta \\pi_{t-1} + \\alpha y_{t-1}\\\\\n",
    "  y_t &= \\rho y_{t-1} - \\sigma r_{t-1}\\\\\n",
    "  r_t &= \\phi r_{t-1} + 0.5 y_t + 1.5 \\pi_t\n",
    "\\end{align}"
   ]
  },
  {
   "cell_type": "code",
   "execution_count": 2,
   "metadata": {},
   "outputs": [],
   "source": [
    "beta = 0.99\n",
    "alpha = 0.1\n",
    "phi = 0.7\n",
    "sigma = 0.5\n",
    "rho = 0.6\n",
    "y[0], r[0], pi[0] = 0, 0, 0.1\n",
    "\n",
    "for t in range(1, T - 1):\n",
    "    pi[t] = beta * pi[t-1] + alpha * y[t - 1]\n",
    "    y[t] = rho * y[t-1] - sigma * 1.5 * r[t - 1]\n",
    "    r[t] = phi * r[t-1] + 0.5 * y[t] + 1.5 * pi[t]    "
   ]
  },
  {
   "cell_type": "code",
   "execution_count": 3,
   "metadata": {},
   "outputs": [
    {
     "data": {
      "text/plain": [
       "array([0.68817009+0.j        , 0.67591495+0.38386204j,\n",
       "       0.67591495-0.38386204j])"
      ]
     },
     "execution_count": 3,
     "metadata": {},
     "output_type": "execute_result"
    }
   ],
   "source": [
    "import numpy as np\n",
    "import scipy.linalg as LA\n",
    "\n",
    "A = np.array([\n",
    "    [1, 0, 0],\n",
    "    [-1.5, 1, -0.5],\n",
    "    [0, 0, 1]\n",
    "])\n",
    "\n",
    "B = np.array([\n",
    "    [beta, 0, alpha],\n",
    "    [0, phi, 0],\n",
    "    [0, -sigma, rho]\n",
    "])\n",
    "\n",
    "E, V = LA.eig(LA.solve(A, B))\n",
    "E"
   ]
  },
  {
   "cell_type": "code",
   "execution_count": 4,
   "metadata": {},
   "outputs": [
    {
     "data": {
      "text/plain": [
       "array([[ 9.90000000e-01, -3.70074342e-17,  1.00000000e-01],\n",
       "       [ 1.48500000e+00,  4.50000000e-01,  4.50000000e-01],\n",
       "       [ 0.00000000e+00, -5.00000000e-01,  6.00000000e-01]])"
      ]
     },
     "execution_count": 4,
     "metadata": {},
     "output_type": "execute_result"
    }
   ],
   "source": [
    "LA.solve(A, B)"
   ]
  },
  {
   "cell_type": "code",
   "execution_count": 5,
   "metadata": {},
   "outputs": [
    {
     "data": {
      "text/plain": [
       "<Figure size 640x480 with 1 Axes>"
      ]
     },
     "metadata": {},
     "output_type": "display_data"
    }
   ],
   "source": [
    "import matplotlib.pyplot as plt\n",
    "\n",
    "plt.plot(y)\n",
    "plt.show()"
   ]
  },
  {
   "cell_type": "code",
   "execution_count": 6,
   "metadata": {},
   "outputs": [
    {
     "data": {
      "image/png": "[encoded data removed]",
      "text/plain": [
       "<Figure size 432x288 with 1 Axes>"
      ]
     },
     "metadata": {
      "needs_background": "light"
     },
     "output_type": "display_data"
    }
   ],
   "source": [
    "plt.plot(r)\n",
    "plt.show()"
   ]
  },
  {
   "cell_type": "code",
   "execution_count": 7,
   "metadata": {},
   "outputs": [
    {
     "data": {
      "image/png": "[encoded data removed]",
      "text/plain": [
       "<Figure size 432x288 with 1 Axes>"
      ]
     },
     "metadata": {
      "needs_background": "light"
     },
     "output_type": "display_data"
    }
   ],
   "source": [
    "plt.plot(pi)\n",
    "plt.show()"
   ]
  },
  {
   "cell_type": "code",
   "execution_count": null,
   "metadata": {},
   "outputs": [],
   "source": []
  },
  {
   "cell_type": "code",
   "execution_count": null,
   "metadata": {},
   "outputs": [],
   "source": []
  },
  {
   "cell_type": "code",
   "execution_count": null,
   "metadata": {},
   "outputs": [],
   "source": []
  }
 ],
 "metadata": {
  "kernelspec": {
   "display_name": "Python 3",
   "language": "python",
   "name": "python3"
  },
  "language_info": {
   "codemirror_mode": {
    "name": "ipython",
    "version": 3
   },
   "file_extension": ".py",
   "mimetype": "text/x-python",
   "name": "python",
   "nbconvert_exporter": "python",
   "pygments_lexer": "ipython3",
   "version": "3.7.3"
  }
 },
 "nbformat": 4,
 "nbformat_minor": 2
}
