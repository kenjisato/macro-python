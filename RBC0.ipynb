{
 "cells": [
  {
   "cell_type": "code",
   "execution_count": 1,
   "metadata": {},
   "outputs": [],
   "source": [
    "import numpy as np\n",
    "import scipy.linalg as LA\n",
    "from scipy import optimize\n",
    "from sympy import symbols, diff, Matrix, BlockMatrix, log, exp, lambdify, init_printing\n",
    "import matplotlib.pyplot as plt\n",
    "\n",
    "np.seterr(divide='ignore', invalid='ignore');\n",
    "init_printing()"
   ]
  },
  {
   "cell_type": "markdown",
   "metadata": {},
   "source": [
    "Miao (2014) より\n",
    "\n",
    "$$\n",
    "\\begin{aligned}\n",
    "&\n",
    "c_t + k_{t+1} - (1 - \\delta) k_t = e^{z_t} k_t^\\alpha n_t^{1-\\alpha}\\\\\n",
    "&\n",
    "\\frac{c_{t+1}}{c_t} = \\beta\\left(\n",
    "  e^{z_{t+1}} \\alpha k_{t+1}^{\\alpha - 1} n_{t+1}^{1-\\alpha} + 1 - \\delta\n",
    "\\right)\\\\\n",
    "&\n",
    "\\frac{\\chi c_t}{1 - n_t} = (1 - \\alpha) e^{z_t} k_t^\\alpha n_t^{-\\alpha}\\\\\n",
    "&\n",
    "z_{t+1} = \\rho z_t + e_{t}\n",
    "\\end{aligned}\n",
    "$$\n",
    "\n",
    "$K_0$, $z_0$ は所与"
   ]
  },
  {
   "cell_type": "code",
   "execution_count": 2,
   "metadata": {},
   "outputs": [],
   "source": [
    "alpha, beta, delta, chi, rho = symbols('alpha beta delta chi rho')\n",
    "ct, kt, nt, zt, et = symbols('c_t k_t n_t z_t e_t')\n",
    "ca, ka, na, za = symbols('c_{t+1} k_{t+1} n_{t+1} z_{t+1}')"
   ]
  },
  {
   "cell_type": "code",
   "execution_count": 3,
   "metadata": {},
   "outputs": [],
   "source": [
    "par = {\n",
    "    alpha: 0.33, beta: 0.99, delta: 0.023, chi: 1.75, rho: 0.95\n",
    "}"
   ]
  },
  {
   "cell_type": "code",
   "execution_count": 4,
   "metadata": {},
   "outputs": [
    {
     "data": {
      "text/latex": [
       "$$\\left[\\begin{matrix}c_{t} - k_{t} \\left(- \\delta + 1\\right) - k_{t}^{\\alpha} n_{t}^{- \\alpha + 1} e^{z_{t}} + k_{t+1}\\\\- \\frac{\\beta \\left(\\alpha k_{t+1}^{\\alpha - 1} n_{t+1}^{- \\alpha + 1} e^{z_{t+1}} - \\delta + 1\\right)}{c_{t+1}} + \\frac{1}{c_{t}}\\\\\\frac{c_{t} \\chi}{- n_{t} + 1} - k_{t}^{\\alpha} n_{t}^{- \\alpha} \\left(- \\alpha + 1\\right) e^{z_{t}}\\\\- e_{t} - \\rho z_{t} + z_{t+1}\\end{matrix}\\right]$$"
      ],
      "text/plain": [
       "⎡                          α   -α + 1  zₜ                ⎤\n",
       "⎢     cₜ - kₜ⋅(-δ + 1) - kₜ ⋅nₜ      ⋅ℯ   + k_{t+1}      ⎥\n",
       "⎢                                                        ⎥\n",
       "⎢    ⎛         α - 1        -α + 1  z_{t+1}        ⎞     ⎥\n",
       "⎢  β⋅⎝α⋅k_{t+1}     ⋅n_{t+1}      ⋅ℯ        - δ + 1⎠   1 ⎥\n",
       "⎢- ───────────────────────────────────────────────── + ──⎥\n",
       "⎢                       c_{t+1}                        cₜ⎥\n",
       "⎢                                                        ⎥\n",
       "⎢              cₜ⋅χ      α   -α           zₜ             ⎥\n",
       "⎢            ─────── - kₜ ⋅nₜ  ⋅(-α + 1)⋅ℯ               ⎥\n",
       "⎢            -nₜ + 1                                     ⎥\n",
       "⎢                                                        ⎥\n",
       "⎣                  -eₜ - ρ⋅zₜ + z_{t+1}                  ⎦"
      ]
     },
     "execution_count": 4,
     "metadata": {},
     "output_type": "execute_result"
    }
   ],
   "source": [
    "F = Matrix([\n",
    "    [ct + ka - (1 - delta) * kt - exp(zt) * kt**alpha * nt**(1 - alpha)],\n",
    "    [1 / ct - 1 / ca * beta * (exp(za) * alpha * ka **(alpha - 1) * na**(1 - alpha) + 1 - delta)],\n",
    "    [chi * ct / (1 - nt) - (1 - alpha) * exp(zt) * kt**alpha * nt**(-alpha)],\n",
    "    [za - rho * zt - et],\n",
    "])\n",
    "F"
   ]
  },
  {
   "cell_type": "code",
   "execution_count": 5,
   "metadata": {},
   "outputs": [
    {
     "data": {
      "text/latex": [
       "$$\\left[\\begin{matrix}c_{t} - k_{t} \\left(- \\delta + 1\\right) + k_{t} - k_{t}^{\\alpha} n_{t}^{- \\alpha + 1} e^{z_{t}}\\\\- \\frac{\\beta \\left(\\alpha k_{t}^{\\alpha - 1} n_{t}^{- \\alpha + 1} e^{z_{t}} - \\delta + 1\\right)}{c_{t}} + \\frac{1}{c_{t}}\\\\\\frac{c_{t} \\chi}{- n_{t} + 1} - k_{t}^{\\alpha} n_{t}^{- \\alpha} \\left(- \\alpha + 1\\right) e^{z_{t}}\\\\- \\rho z_{t} + z_{t}\\end{matrix}\\right]$$"
      ],
      "text/plain": [
       "⎡                          α   -α + 1  zₜ ⎤\n",
       "⎢cₜ - kₜ⋅(-δ + 1) + kₜ - kₜ ⋅nₜ      ⋅ℯ   ⎥\n",
       "⎢                                         ⎥\n",
       "⎢    ⎛    α - 1   -α + 1  zₜ        ⎞     ⎥\n",
       "⎢  β⋅⎝α⋅kₜ     ⋅nₜ      ⋅ℯ   - δ + 1⎠   1 ⎥\n",
       "⎢- ────────────────────────────────── + ──⎥\n",
       "⎢                  cₜ                   cₜ⎥\n",
       "⎢                                         ⎥\n",
       "⎢       cₜ⋅χ      α   -α           zₜ     ⎥\n",
       "⎢     ─────── - kₜ ⋅nₜ  ⋅(-α + 1)⋅ℯ       ⎥\n",
       "⎢     -nₜ + 1                             ⎥\n",
       "⎢                                         ⎥\n",
       "⎣               -ρ⋅zₜ + zₜ                ⎦"
      ]
     },
     "execution_count": 5,
     "metadata": {},
     "output_type": "execute_result"
    }
   ],
   "source": [
    "vt = (zt, kt, ct, nt)\n",
    "va = (za, ka, ca, na)\n",
    "exo = (et, )\n",
    "\n",
    "SSeq = F.subs({k: v for k, v in zip(va, vt)}).subs({k: 0 for k in exo})\n",
    "SSeq"
   ]
  },
  {
   "cell_type": "code",
   "execution_count": 6,
   "metadata": {},
   "outputs": [],
   "source": [
    "fn = lambdify([vt], np.squeeze(SSeq.subs(par)), \"numpy\")\n",
    "J = Matrix(BlockMatrix([[diff(SSeq, x) for x in vt]]))\n",
    "jac = lambdify([vt], J.subs(par), \"numpy\")"
   ]
  },
  {
   "cell_type": "code",
   "execution_count": 7,
   "metadata": {},
   "outputs": [
    {
     "data": {
      "text/plain": [
       "    fjac: array([[-0.58629553, -0.19178215, -0.78619221,  0.03713443],\n",
       "       [-0.60101259, -0.5409639 ,  0.58365903,  0.07405443],\n",
       "       [ 0.5302628 , -0.75453381, -0.1956262 ,  0.33351235],\n",
       "       [ 0.11774033, -0.3182081 , -0.05453742, -0.93909876]])\n",
       "     fun: array([-5.55111512e-17,  2.22044605e-16, -8.88178420e-16,  2.06070856e-31])\n",
       " message: 'The solution converged.'\n",
       "    nfev: 23\n",
       "    njev: 1\n",
       "     qtf: array([ 6.57058691e-14, -1.49926984e-14, -1.90049203e-14, -5.33351888e-15])\n",
       "       r: array([ 1.34645918,  0.07473635, -4.14482508, -2.61594154, -0.03747638,\n",
       "        1.57832579,  3.33142639,  0.11104153, -1.0825533 , -0.22519412])\n",
       "  status: 1\n",
       " success: True\n",
       "       x: array([4.12141712e-30, 1.02695922e+01, 7.93902032e-01, 3.31892119e-01])"
      ]
     },
     "execution_count": 7,
     "metadata": {},
     "output_type": "execute_result"
    }
   ],
   "source": [
    "sol = optimize.root(fn, x0=[0, 2, 0.5, 0.5], jac=jac, tol=1e-12)\n",
    "sol"
   ]
  },
  {
   "cell_type": "code",
   "execution_count": 8,
   "metadata": {},
   "outputs": [],
   "source": [
    "ss = {k:v for k, v in zip(vt, sol.x)}\n",
    "ss.update({k:v for k, v in zip(va, sol.x)})"
   ]
  },
  {
   "cell_type": "code",
   "execution_count": 9,
   "metadata": {},
   "outputs": [
    {
     "data": {
      "text/plain": [
       "array([[ 0.        ,  1.        ,  0.        ,  0.        ],\n",
       "       [-0.04127713,  0.00269297,  1.58659533, -0.08332732],\n",
       "       [ 0.        ,  0.        ,  0.        ,  0.        ],\n",
       "       [ 1.        ,  0.        ,  0.        ,  0.        ]])"
      ]
     },
     "execution_count": 9,
     "metadata": {},
     "output_type": "execute_result"
    }
   ],
   "source": [
    "DFa = Matrix(BlockMatrix([[diff(F, x) for x in va]]))\n",
    "A = np.array(DFa.subs(ss).subs(par), dtype=np.float64)\n",
    "A"
   ]
  },
  {
   "cell_type": "code",
   "execution_count": 10,
   "metadata": {},
   "outputs": [
    {
     "data": {
      "text/plain": [
       "array([[ 1.03010265,  1.01010101, -1.        ,  2.07949733],\n",
       "       [ 0.        ,  0.        ,  1.58659533,  0.        ],\n",
       "       [ 2.07949733,  0.06682194, -2.61933746, -5.1801594 ],\n",
       "       [ 0.95      ,  0.        ,  0.        ,  0.        ]])"
      ]
     },
     "execution_count": 10,
     "metadata": {},
     "output_type": "execute_result"
    }
   ],
   "source": [
    "DFt = Matrix(BlockMatrix([[-diff(F, x) for x in vt]]))\n",
    "B = np.array(DFt.subs(ss).subs(par), dtype=np.float64)\n",
    "B"
   ]
  },
  {
   "cell_type": "code",
   "execution_count": 11,
   "metadata": {},
   "outputs": [
    {
     "data": {
      "text/plain": [
       "array([[0.],\n",
       "       [0.],\n",
       "       [0.],\n",
       "       [1.]])"
      ]
     },
     "execution_count": 11,
     "metadata": {},
     "output_type": "execute_result"
    }
   ],
   "source": [
    "DFe = Matrix(BlockMatrix([[-diff(F, x) for x in exo]]))\n",
    "C = np.array(DFe.subs(ss).subs(par), dtype=np.float64)\n",
    "C"
   ]
  },
  {
   "cell_type": "markdown",
   "metadata": {},
   "source": [
    "ここで定義した `A`, `B`, `C` は次の動学方程式の係数行列である。\n",
    "\n",
    "$$\n",
    "A x_{t+1} = B x_t + C u_t\n",
    "$$\n",
    "\n",
    "ただし， $u_t = e_t$ と置き換えた。$x = (x^1, x^2)$, $x^1$ は先決変数，$x^2$ は非先決変数となるように並べておく。適当な条件のもとで, 次の「状態空間表現」に変形できる。\n",
    "\n",
    "\\begin{align}\n",
    "  x^1_{t+1} &= \\Omega_x x_t^1 + \\Omega_u u_t + \\Omega_y y^u_{t+1}\\\\\n",
    "  x^2_t &= \\Psi_x x_t^1 + \\Psi_y y^u_t\n",
    "\\end{align}\n",
    "\n",
    "ここで， $y^u_t = y^u(u_t, u_{t+1}, \\dots)$ は未来のショックに対する予想を反映して定まる。\n",
    "\n",
    "係数行列および $y^u_t$ の決め方をおさらいしよう。\n",
    "\n",
    "\n",
    "$(A,B)$ に対して QZ分解を実行することで，行列ペア $(S, T)$ を作る。\n",
    "\n",
    "\\begin{align}\n",
    "  Q^* A Z = S\\quad Q^* B Z = T\n",
    "\\end{align}\n",
    "\n",
    "\n",
    "$$\n",
    "S Z^* x_{t+1} = T Z^* x_t + Q^* C u_t\n",
    "$$\n",
    "\n",
    "ここで\n",
    "\n",
    "$$\n",
    "y = Z^* x, \\qquad U = Q^* C\n",
    "$$\n",
    "\n",
    "と置くと，\n",
    "\n",
    "$$\n",
    "Sy_{t+1} = T y_t + Uu_t\n",
    "$$\n",
    "\n",
    "と書き換えられる。ブロック行列\n",
    "\n",
    "\n",
    "\\begin{align}\n",
    "Z=\n",
    "    \\begin{bmatrix}\n",
    "        Z_{1s} & Z_{1u}\\\\\n",
    "        Z_{2s} & Z_{2u}\n",
    "    \\end{bmatrix}\n",
    "    \\qquad \n",
    "    Q^* C = U = \n",
    "    \\begin{bmatrix}\n",
    "        U_s \\\\\n",
    "        U_u\n",
    "    \\end{bmatrix}\n",
    "\\end{align}\n",
    "\n",
    "\\begin{align}\n",
    "S=\n",
    "    \\begin{bmatrix}\n",
    "        S_{ss} & S_{su}\\\\\n",
    "        0 & S_{uu}\n",
    "    \\end{bmatrix}\n",
    "    \\qquad\n",
    "T=\n",
    "    \\begin{bmatrix}\n",
    "        T_{ss} & T_{su}\\\\\n",
    "        0 & T_{uu}\n",
    "    \\end{bmatrix}\n",
    "\\end{align}\n",
    "\n",
    "\n",
    "に分解したとき， $S_{ss}^{-1} T_{ss}$ および $T_{uu}^{-1} S_{uu}$ が安定行列になるように一般化固有ベクトルを並べるものとする。\n",
    "\n",
    "\n",
    "\\begin{align}\n",
    "\\Omega_{x} &= Z_{1s}S_{ss}^{-1}T_{ss}Z_{1s}^{-1} \\\\ \n",
    "%\n",
    "\\Omega_u &= Z_{1s}S_{ss}^{-1}\\left[\n",
    "U_{s}-(T_{su}-T_{ss}Z_{1s}^{-1}Z_{1u})T_{uu}^{-1}U_{u}\n",
    "\\right] \\\\ \n",
    "%\n",
    "\\Omega_y &= (Z_{1u}-Z_{1s}S_{ss}^{-1}S_{su})+Z_{1s}S_{ss}^{-1}(T_{su}-T_{ss}Z_{1s}^{-1}Z_{1u})T_{uu}^{-1}S_{uu}\n",
    "\\end{align}\n",
    "\n",
    "\n",
    "\\begin{align}\n",
    "\\Psi_x &= Z_{2s}Z_{1s}^{-1} \\\\\n",
    "\\Psi_y &= Z_{2u}-Z_{2s}Z_{1s}^{-1}Z_{1u}\n",
    "\\end{align}"
   ]
  },
  {
   "cell_type": "code",
   "execution_count": 12,
   "metadata": {},
   "outputs": [],
   "source": [
    "from lrem import ordqz, make_slices\n",
    "\n",
    "def solve_lrem(a, b, c, n1):\n",
    "\n",
    "    T, S, tii, sii, Q, Z = ordqz(b, a)\n",
    "    U = Q.T @ c\n",
    "    ns = sum(abs(tii / sii) <= 1) \n",
    "    assert n1 == ns\n",
    "\n",
    "    _1s, _2s, _1u, _2u, _ss, _su, _su, _uu, _s, _u = make_slices(n1, ns)\n",
    "    \n",
    "    Ox = Z[_1s] @ LA.solve(S[_ss], T[_ss]) @ LA.inv(Z[_1s])\n",
    "    Ou = Z[_1s] @ LA.solve(S[_ss], U[_s] - (T[_su] - T[_ss] @ LA.solve(Z[_1s], Z[_1u]))\n",
    "                          @ LA.solve(T[_uu], U[_u]))\n",
    "    Oy = Z[_1u] - Z[_1s] @ LA.solve(S[_ss], S[_su]) + Z[_1s] @ LA.solve(S[_ss],                                                          \n",
    "            T[_su] - T[_ss] @ LA.solve(Z[_1s], Z[_1u])) @ LA.solve(T[_uu], S[_uu])\n",
    "    Px = Z[_2s] @ LA.inv(Z[_1s])\n",
    "    Py = Z[_2u] - Z[_2s] @ LA.solve(Z[_1s], Z[_1u])\n",
    "    \n",
    "    \n",
    "    def yu(u):\n",
    "        Y = np.zeros((len(u), Oy.shape[1], 1))\n",
    "        Yplus = np.zeros((Oy.shape[1], 1))\n",
    "        for i, ut in enumerate(reversed(u)):\n",
    "            Yplus = LA.solve(T[_uu], S[_uu] @ Yplus - U[_u] @ ut)\n",
    "            Y[-1-i, :] = Yplus\n",
    "        return Y\n",
    "\n",
    "    return Ox, Ou, Oy, Px, Py, yu\n",
    "\n",
    "\n",
    "Ox, Ou, Oy, Px, Py, yu = solve_lrem(A, B, C, n1=2)"
   ]
  },
  {
   "cell_type": "code",
   "execution_count": 13,
   "metadata": {},
   "outputs": [],
   "source": [
    "steps = 200\n",
    "\n",
    "u = np.zeros((steps, 1, 1))\n",
    "for i in range(10):\n",
    "    u[i, :] = 0.01\n",
    "\n",
    "y = yu(u)\n",
    "x1 = np.zeros((steps, 2, 1))\n",
    "x2 = np.zeros((steps, 4-2, 1))\n",
    "\n",
    "for i in range(steps):\n",
    "    try:\n",
    "        x1[i+1, :] = Ox @ x1[i, :] + Ou @ u[i, :] + Oy @ y[i+1]\n",
    "    except IndexError:\n",
    "        pass\n",
    "        \n",
    "    x2[i, :] = Px @ x1[i, :] + Py @ y[i]\n",
    "\n",
    "x1 = x1.reshape((steps, 2))\n",
    "x2 = x2.reshape((steps, 2))"
   ]
  },
  {
   "cell_type": "code",
   "execution_count": 14,
   "metadata": {},
   "outputs": [
    {
     "data": {
      "image/png": "[encoded data removed]",
      "text/plain": [
       "<Figure size 720x576 with 4 Axes>"
      ]
     },
     "metadata": {
      "needs_background": "light"
     },
     "output_type": "display_data"
    }
   ],
   "source": [
    "fig, ax = plt.subplots(2, 2)\n",
    "fig.set_size_inches(10,8)\n",
    "\n",
    "\n",
    "z, k, c, n = sol.x\n",
    "\n",
    "ax[0, 0].set_title('$Z$')\n",
    "ax[0, 0].plot(x1[:, 0])\n",
    "ax[0, 0].axhline(z, color='black', linestyle='dotted')\n",
    "\n",
    "ax[0, 1].set_title('$K$')\n",
    "ax[0, 1].plot(k + x1[:, 1])\n",
    "ax[0, 1].axhline(k, color='black', linestyle='dotted')\n",
    "\n",
    "ax[1, 0].set_title('$C$')\n",
    "ax[1, 0].plot(c + x2[:, 0])\n",
    "ax[1, 0].axhline(c, color='black', linestyle='dotted')\n",
    "\n",
    "ax[1, 1].set_title('$N$')\n",
    "ax[1, 1].plot(n + x2[:, 1])\n",
    "ax[1, 1].axhline(n, color='black', linestyle='dotted')\n",
    "\n",
    "plt.show()"
   ]
  },
  {
   "cell_type": "code",
   "execution_count": null,
   "metadata": {},
   "outputs": [],
   "source": []
  }
 ],
 "metadata": {
  "kernelspec": {
   "display_name": "Python 3",
   "language": "python",
   "name": "python3"
  },
  "language_info": {
   "codemirror_mode": {
    "name": "ipython",
    "version": 3
   },
   "file_extension": ".py",
   "mimetype": "text/x-python",
   "name": "python",
   "nbconvert_exporter": "python",
   "pygments_lexer": "ipython3",
   "version": "3.7.3"
  }
 },
 "nbformat": 4,
 "nbformat_minor": 2
}
